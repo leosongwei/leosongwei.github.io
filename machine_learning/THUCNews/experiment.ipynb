{
 "cells": [
  {
   "attachments": {},
   "cell_type": "markdown",
   "metadata": {},
   "source": [
    "# THUCNews\n",
    "\n",
    "最近试图把机器学习的东西捡起来。于是随便找了个数据集练习了一下。\n",
    "\n",
    "* 数据集： https://www.kaggle.com/datasets/trumanjagan/thucnews\n",
    "  * 如果遇到乱码问题，记得带上编码参数：`unzip -O utf-8 -q THUCNews.zip`\n",
    "* 练习赛：中文新闻文本标题分类 https://aistudio.baidu.com/aistudio/competition/detail/10/0/introduction"
   ]
  },
  {
   "cell_type": "code",
   "execution_count": 7,
   "metadata": {},
   "outputs": [],
   "source": [
    "from experiment import (\n",
    "    ExperimentParameters,\n",
    "    load_data,\n",
    "    setup_datasets,\n",
    "    NewsTitleClassifierBaseline,\n",
    "    NewsTitleClassifierContrastive,\n",
    "    Tester,\n",
    "    train\n",
    ")"
   ]
  },
  {
   "cell_type": "code",
   "execution_count": 8,
   "metadata": {},
   "outputs": [
    {
     "name": "stdout",
     "output_type": "stream",
     "text": [
      "loading data...\n",
      "dict_keys(['财经', '股票', '科技', '社会', '游戏', '星座', '时政', '时尚', '教育', '房产', '彩票', '家居', '娱乐', '体育'])\n",
      "splitting datasets...\n"
     ]
    },
    {
     "name": "stderr",
     "output_type": "stream",
     "text": [
      "Some weights of the model checkpoint at bert-base-chinese were not used when initializing BertModel: ['cls.predictions.transform.LayerNorm.weight', 'cls.seq_relationship.weight', 'cls.predictions.decoder.weight', 'cls.predictions.transform.dense.bias', 'cls.seq_relationship.bias', 'cls.predictions.transform.dense.weight', 'cls.predictions.bias', 'cls.predictions.transform.LayerNorm.bias']\n",
      "- This IS expected if you are initializing BertModel from the checkpoint of a model trained on another task or with another architecture (e.g. initializing a BertForSequenceClassification model from a BertForPreTraining model).\n",
      "- This IS NOT expected if you are initializing BertModel from the checkpoint of a model that you expect to be exactly identical (initializing a BertForSequenceClassification model from a BertForSequenceClassification model).\n"
     ]
    }
   ],
   "source": [
    "PARAMS = ExperimentParameters()\n",
    "load_data(PARAMS)\n",
    "setup_datasets(PARAMS)\n",
    "PARAMS.MODEL = NewsTitleClassifierBaseline(\n",
    "    PARAMS.DEVICE,\n",
    "    PARAMS.MODEL_NAME,\n",
    "    PARAMS.MODEL_HIDDEN_SIZE,\n",
    "    PARAMS.tag_list,\n",
    ").to(PARAMS.DEVICE)\n",
    "PARAMS.tester = Tester(PARAMS, PARAMS.quick_test_dataset)"
   ]
  },
  {
   "cell_type": "code",
   "execution_count": 9,
   "metadata": {},
   "outputs": [
    {
     "data": {
      "text/plain": [
       "[('娱乐', '陈楚生向法院提出解约 与天娱彻底拉爆(附图)\\n'),\n",
       " ('娱乐', '何洁否认整容称被曲解：只在妈妈那里整过\\n'),\n",
       " ('教育', '高考提示：体验考场该做什么\\n'),\n",
       " ('科技', '苹果：与联通iPhone合约非排他性协议\\n'),\n",
       " ('科技', '《征途2》仍处测试阶段 最高在线人数破30万\\n'),\n",
       " ('科技', '网民在家上网比例已超80% 上网时间继续增加\\n'),\n",
       " ('教育', '必看：如何让小升初英语面试胸有成竹\\n'),\n",
       " ('体育', '连败让火箭训练场气氛沉静 21比3活力小子蔫头耷脑\\n'),\n",
       " ('科技', '超薄靓丽时尚机 卡西欧Z16杭城惊报690\\n'),\n",
       " ('股票', '站上半年线 有望挑战60日线\\n')]"
      ]
     },
     "execution_count": 9,
     "metadata": {},
     "output_type": "execute_result"
    }
   ],
   "source": [
    "PARAMS.quick_test_dataset[:10]"
   ]
  },
  {
   "attachments": {},
   "cell_type": "markdown",
   "metadata": {},
   "source": [
    "## 数据挖掘\n",
    "\n",
    "首先我们数据挖掘一下，看看数据集标签的比例。"
   ]
  },
  {
   "cell_type": "code",
   "execution_count": 10,
   "metadata": {},
   "outputs": [],
   "source": [
    "import matplotlib.pyplot as plt\n",
    "\n",
    "import matplotlib.font_manager as font_manager\n",
    "\n",
    "font_path = '/usr/share/fonts/opentype/noto/NotoSansCJK-Regular.ttc'\n",
    "font_manager.fontManager.addfont(font_path)\n",
    "prop = font_manager.FontProperties(fname=font_path)\n",
    "plt.rcParams['font.family'] = 'sans-serif'\n",
    "plt.rcParams['font.sans-serif'] = prop.get_name()"
   ]
  },
  {
   "cell_type": "code",
   "execution_count": 4,
   "metadata": {},
   "outputs": [
    {
     "data": {
      "image/png": "[encoded data removed]",
      "text/plain": [
       "<Figure size 640x480 with 1 Axes>"
      ]
     },
     "metadata": {},
     "output_type": "display_data"
    }
   ],
   "source": [
    "ys = [y for y, x in PARAMS.category_and_titles]\n",
    "catag_count = [ys.count(tag) for tag in PARAMS.tag_list]\n",
    "\n",
    "fig, ax = plt.subplots()\n",
    "ax.bar(PARAMS.tag_list, catag_count)\n",
    "\n",
    "plt.show()"
   ]
  },
  {
   "attachments": {},
   "cell_type": "markdown",
   "metadata": {},
   "source": [
    "## LoRA"
   ]
  },
  {
   "cell_type": "code",
   "execution_count": 167,
   "metadata": {},
   "outputs": [],
   "source": [
    "import torch\n",
    "import math\n",
    "\n",
    "import torchvision.transforms as transforms\n",
    "\n",
    "class SimLora(torch.nn.Module):\n",
    "    def __init__(\n",
    "            self,\n",
    "            in_features: int, \n",
    "            out_features: int, \n",
    "            r: int = 0,\n",
    "            **kwargs) -> None:\n",
    "        super().__init__(**kwargs)\n",
    "        self.lora_A = torch.nn.Parameter(torch.zeros((r, in_features)))\n",
    "        self.lora_B = torch.nn.Parameter(torch.zeros((out_features, r)))\n",
    "        torch.nn.init.kaiming_uniform_(self.lora_A, a=math.sqrt(5))\n",
    "        torch.nn.init.kaiming_uniform_(self.lora_B, a=math.sqrt(5))\n",
    "        #torch.nn.init.zeros_(self.lora_B)\n",
    "\n",
    "    def forward(self, x: torch.Tensor):\n",
    "        # @ is torch.matmul\n",
    "        return x @ self.lora_A.T @ self.lora_B.T\n",
    "    \n",
    "    def dummy(self):\n",
    "        return (self.lora_A.T @ self.lora_B.T).T\n",
    "\n",
    "\n",
    "def print_weight(tensor1, tensor2, tensor3, tensor4):\n",
    "    to_image = transforms.ToPILImage()\n",
    "    img1 = to_image(tensor1)\n",
    "    img2 = to_image(tensor2)\n",
    "    img3 = to_image(tensor3)\n",
    "    img4 = to_image(tensor4)\n",
    "    f, add = plt.subplots(1, 4)\n",
    "    add[0].imshow(img1)\n",
    "    add[1].imshow(img2)\n",
    "    add[2].imshow(img3)\n",
    "    add[3].imshow(img4)\n",
    "    plt.show()\n"
   ]
  },
  {
   "cell_type": "code",
   "execution_count": 170,
   "metadata": {},
   "outputs": [
    {
     "data": {
      "image/png": "[encoded data removed]",
      "text/plain": [
       "<Figure size 640x480 with 4 Axes>"
      ]
     },
     "metadata": {},
     "output_type": "display_data"
    },
    {
     "name": "stdout",
     "output_type": "stream",
     "text": [
      "tensor(0.1352, grad_fn=<MseLossBackward0>)\n",
      "tensor(0.0211, grad_fn=<MseLossBackward0>)\n"
     ]
    },
    {
     "data": {
      "image/png": "[encoded data removed]",
      "text/plain": [
       "<Figure size 640x480 with 4 Axes>"
      ]
     },
     "metadata": {},
     "output_type": "display_data"
    }
   ],
   "source": [
    "linear_layer = torch.nn.Linear(20, 30, bias=False)\n",
    "lora_layer = SimLora(linear_layer.in_features, linear_layer.out_features, r=4)\n",
    "print_weight(linear_layer.weight, lora_layer.dummy(), lora_layer.lora_A, lora_layer.lora_B)\n",
    "\n",
    "loss_fn = torch.nn.MSELoss()\n",
    "optimizer = torch.optim.SGD(\n",
    "    lora_layer.parameters(), lr=0.05\n",
    ")\n",
    "\n",
    "steps = 2000\n",
    "batch_size = 100\n",
    "for i in range(steps):\n",
    "    optimizer.zero_grad()\n",
    "\n",
    "    input = torch.rand(batch_size, linear_layer.in_features)\n",
    "    y_g = linear_layer(input)\n",
    "    y_p = lora_layer(input)\n",
    "    loss = loss_fn(y_p, y_g)\n",
    "    loss.backward()\n",
    "    if i == 0 or i == steps - 1:\n",
    "        print(loss)\n",
    "    optimizer.step()\n",
    "print_weight(linear_layer.weight, lora_layer.dummy(), lora_layer.lora_A, lora_layer.lora_B)"
   ]
  },
  {
   "cell_type": "code",
   "execution_count": 23,
   "metadata": {},
   "outputs": [
    {
     "name": "stderr",
     "output_type": "stream",
     "text": [
      "Some weights of the model checkpoint at bert-base-chinese were not used when initializing BertModel: ['cls.predictions.decoder.weight', 'cls.predictions.transform.LayerNorm.bias', 'cls.seq_relationship.bias', 'cls.seq_relationship.weight', 'cls.predictions.transform.dense.bias', 'cls.predictions.bias', 'cls.predictions.transform.LayerNorm.weight', 'cls.predictions.transform.dense.weight']\n",
      "- This IS expected if you are initializing BertModel from the checkpoint of a model trained on another task or with another architecture (e.g. initializing a BertForSequenceClassification model from a BertForPreTraining model).\n",
      "- This IS NOT expected if you are initializing BertModel from the checkpoint of a model that you expect to be exactly identical (initializing a BertForSequenceClassification model from a BertForSequenceClassification model).\n"
     ]
    },
    {
     "name": "stdout",
     "output_type": "stream",
     "text": [
      "patching <class 'transformers.models.bert.modeling_bert.BertSelfAttention'>\n",
      "patching <class 'transformers.models.bert.modeling_bert.BertSelfOutput'>\n",
      "patching <class 'transformers.models.bert.modeling_bert.BertIntermediate'>\n",
      "patching <class 'transformers.models.bert.modeling_bert.BertOutput'>\n",
      "patching <class 'transformers.models.bert.modeling_bert.BertSelfAttention'>\n",
      "patching <class 'transformers.models.bert.modeling_bert.BertSelfOutput'>\n",
      "patching <class 'transformers.models.bert.modeling_bert.BertIntermediate'>\n",
      "patching <class 'transformers.models.bert.modeling_bert.BertOutput'>\n",
      "patching <class 'transformers.models.bert.modeling_bert.BertSelfAttention'>\n",
      "patching <class 'transformers.models.bert.modeling_bert.BertSelfOutput'>\n",
      "patching <class 'transformers.models.bert.modeling_bert.BertIntermediate'>\n",
      "patching <class 'transformers.models.bert.modeling_bert.BertOutput'>\n",
      "patching <class 'transformers.models.bert.modeling_bert.BertSelfAttention'>\n",
      "patching <class 'transformers.models.bert.modeling_bert.BertSelfOutput'>\n",
      "patching <class 'transformers.models.bert.modeling_bert.BertIntermediate'>\n",
      "patching <class 'transformers.models.bert.modeling_bert.BertOutput'>\n",
      "patching <class 'transformers.models.bert.modeling_bert.BertSelfAttention'>\n",
      "patching <class 'transformers.models.bert.modeling_bert.BertSelfOutput'>\n",
      "patching <class 'transformers.models.bert.modeling_bert.BertIntermediate'>\n",
      "patching <class 'transformers.models.bert.modeling_bert.BertOutput'>\n",
      "patching <class 'transformers.models.bert.modeling_bert.BertSelfAttention'>\n",
      "patching <class 'transformers.models.bert.modeling_bert.BertSelfOutput'>\n",
      "patching <class 'transformers.models.bert.modeling_bert.BertIntermediate'>\n",
      "patching <class 'transformers.models.bert.modeling_bert.BertOutput'>\n",
      "patching <class 'transformers.models.bert.modeling_bert.BertSelfAttention'>\n",
      "patching <class 'transformers.models.bert.modeling_bert.BertSelfOutput'>\n",
      "patching <class 'transformers.models.bert.modeling_bert.BertIntermediate'>\n",
      "patching <class 'transformers.models.bert.modeling_bert.BertOutput'>\n",
      "patching <class 'transformers.models.bert.modeling_bert.BertSelfAttention'>\n",
      "patching <class 'transformers.models.bert.modeling_bert.BertSelfOutput'>\n",
      "patching <class 'transformers.models.bert.modeling_bert.BertIntermediate'>\n",
      "patching <class 'transformers.models.bert.modeling_bert.BertOutput'>\n",
      "patching <class 'transformers.models.bert.modeling_bert.BertSelfAttention'>\n",
      "patching <class 'transformers.models.bert.modeling_bert.BertSelfOutput'>\n",
      "patching <class 'transformers.models.bert.modeling_bert.BertIntermediate'>\n",
      "patching <class 'transformers.models.bert.modeling_bert.BertOutput'>\n",
      "patching <class 'transformers.models.bert.modeling_bert.BertSelfAttention'>\n",
      "patching <class 'transformers.models.bert.modeling_bert.BertSelfOutput'>\n",
      "patching <class 'transformers.models.bert.modeling_bert.BertIntermediate'>\n",
      "patching <class 'transformers.models.bert.modeling_bert.BertOutput'>\n",
      "patching <class 'transformers.models.bert.modeling_bert.BertSelfAttention'>\n",
      "patching <class 'transformers.models.bert.modeling_bert.BertSelfOutput'>\n",
      "patching <class 'transformers.models.bert.modeling_bert.BertIntermediate'>\n",
      "patching <class 'transformers.models.bert.modeling_bert.BertOutput'>\n",
      "patching <class 'transformers.models.bert.modeling_bert.BertSelfAttention'>\n",
      "patching <class 'transformers.models.bert.modeling_bert.BertSelfOutput'>\n",
      "patching <class 'transformers.models.bert.modeling_bert.BertIntermediate'>\n",
      "patching <class 'transformers.models.bert.modeling_bert.BertOutput'>\n",
      "patching <class 'transformers.models.bert.modeling_bert.BertPooler'>\n",
      "ratio: 0.0313\n",
      "Adjusting learning rate of group 0 to 6.0000e-02.\n",
      "epoch: 0\n"
     ]
    },
    {
     "name": "stderr",
     "output_type": "stream",
     "text": [
      "  3%|▎         | 102/3345 [00:16<14:47,  3.65it/s]"
     ]
    },
    {
     "name": "stdout",
     "output_type": "stream",
     "text": [
      "training accuracy: 0.2345\n",
      "test accuracy: 0.2899\n"
     ]
    },
    {
     "name": "stderr",
     "output_type": "stream",
     "text": [
      "  6%|▌         | 202/3345 [00:32<13:57,  3.75it/s]"
     ]
    },
    {
     "name": "stdout",
     "output_type": "stream",
     "text": [
      "training accuracy: 0.3097\n",
      "test accuracy: 0.3192\n",
      "Adjusting learning rate of group 0 to 5.7000e-02.\n"
     ]
    },
    {
     "name": "stderr",
     "output_type": "stream",
     "text": [
      "  9%|▉         | 302/3345 [00:49<13:32,  3.75it/s]"
     ]
    },
    {
     "name": "stdout",
     "output_type": "stream",
     "text": [
      "training accuracy: 0.3688\n",
      "test accuracy: 0.3993\n"
     ]
    },
    {
     "name": "stderr",
     "output_type": "stream",
     "text": [
      " 12%|█▏        | 402/3345 [01:05<13:07,  3.74it/s]"
     ]
    },
    {
     "name": "stdout",
     "output_type": "stream",
     "text": [
      "training accuracy: 0.4321\n",
      "test accuracy: 0.4399\n",
      "Adjusting learning rate of group 0 to 5.4150e-02.\n"
     ]
    },
    {
     "name": "stderr",
     "output_type": "stream",
     "text": [
      " 15%|█▌        | 502/3345 [01:22<12:36,  3.76it/s]"
     ]
    },
    {
     "name": "stdout",
     "output_type": "stream",
     "text": [
      "training accuracy: 0.4585\n",
      "test accuracy: 0.4668\n"
     ]
    },
    {
     "name": "stderr",
     "output_type": "stream",
     "text": [
      " 18%|█▊        | 602/3345 [01:38<12:30,  3.66it/s]"
     ]
    },
    {
     "name": "stdout",
     "output_type": "stream",
     "text": [
      "training accuracy: 0.4703\n",
      "test accuracy: 0.4650\n",
      "Adjusting learning rate of group 0 to 5.1442e-02.\n"
     ]
    },
    {
     "name": "stderr",
     "output_type": "stream",
     "text": [
      " 21%|██        | 702/3345 [01:55<12:07,  3.63it/s]"
     ]
    },
    {
     "name": "stdout",
     "output_type": "stream",
     "text": [
      "training accuracy: 0.4732\n",
      "test accuracy: 0.4740\n"
     ]
    },
    {
     "name": "stderr",
     "output_type": "stream",
     "text": [
      " 24%|██▍       | 802/3345 [02:11<11:59,  3.54it/s]"
     ]
    },
    {
     "name": "stdout",
     "output_type": "stream",
     "text": [
      "training accuracy: 0.4797\n",
      "test accuracy: 0.4806\n",
      "Adjusting learning rate of group 0 to 4.8870e-02.\n"
     ]
    },
    {
     "name": "stderr",
     "output_type": "stream",
     "text": [
      " 27%|██▋       | 902/3345 [02:28<10:53,  3.74it/s]"
     ]
    },
    {
     "name": "stdout",
     "output_type": "stream",
     "text": [
      "training accuracy: 0.4803\n",
      "test accuracy: 0.4931\n"
     ]
    },
    {
     "name": "stderr",
     "output_type": "stream",
     "text": [
      " 30%|██▉       | 1002/3345 [02:44<10:33,  3.70it/s]"
     ]
    },
    {
     "name": "stdout",
     "output_type": "stream",
     "text": [
      "training accuracy: 0.4958\n",
      "test accuracy: 0.4997\n",
      "Adjusting learning rate of group 0 to 4.6427e-02.\n"
     ]
    },
    {
     "name": "stderr",
     "output_type": "stream",
     "text": [
      " 33%|███▎      | 1102/3345 [03:01<10:01,  3.73it/s]"
     ]
    },
    {
     "name": "stdout",
     "output_type": "stream",
     "text": [
      "training accuracy: 0.5093\n",
      "test accuracy: 0.5146\n"
     ]
    },
    {
     "name": "stderr",
     "output_type": "stream",
     "text": [
      " 36%|███▌      | 1202/3345 [03:17<09:41,  3.69it/s]"
     ]
    },
    {
     "name": "stdout",
     "output_type": "stream",
     "text": [
      "training accuracy: 0.5155\n",
      "test accuracy: 0.5284\n",
      "Adjusting learning rate of group 0 to 4.4106e-02.\n"
     ]
    },
    {
     "name": "stderr",
     "output_type": "stream",
     "text": [
      " 39%|███▉      | 1302/3345 [03:34<09:19,  3.65it/s]"
     ]
    },
    {
     "name": "stdout",
     "output_type": "stream",
     "text": [
      "training accuracy: 0.5370\n",
      "test accuracy: 0.5350\n"
     ]
    },
    {
     "name": "stderr",
     "output_type": "stream",
     "text": [
      " 42%|████▏     | 1402/3345 [03:50<08:50,  3.66it/s]"
     ]
    },
    {
     "name": "stdout",
     "output_type": "stream",
     "text": [
      "training accuracy: 0.5379\n",
      "test accuracy: 0.5392\n",
      "Adjusting learning rate of group 0 to 4.1900e-02.\n"
     ]
    },
    {
     "name": "stderr",
     "output_type": "stream",
     "text": [
      " 45%|████▍     | 1502/3345 [04:07<08:05,  3.79it/s]"
     ]
    },
    {
     "name": "stdout",
     "output_type": "stream",
     "text": [
      "training accuracy: 0.5472\n",
      "test accuracy: 0.5517\n"
     ]
    },
    {
     "name": "stderr",
     "output_type": "stream",
     "text": [
      " 48%|████▊     | 1602/3345 [04:23<07:40,  3.78it/s]"
     ]
    },
    {
     "name": "stdout",
     "output_type": "stream",
     "text": [
      "training accuracy: 0.5624\n",
      "test accuracy: 0.5637\n",
      "Adjusting learning rate of group 0 to 3.9805e-02.\n"
     ]
    },
    {
     "name": "stderr",
     "output_type": "stream",
     "text": [
      " 51%|█████     | 1702/3345 [04:39<07:18,  3.75it/s]"
     ]
    },
    {
     "name": "stdout",
     "output_type": "stream",
     "text": [
      "training accuracy: 0.5708\n",
      "test accuracy: 0.5720\n"
     ]
    },
    {
     "name": "stderr",
     "output_type": "stream",
     "text": [
      " 54%|█████▍    | 1802/3345 [04:55<06:49,  3.77it/s]"
     ]
    },
    {
     "name": "stdout",
     "output_type": "stream",
     "text": [
      "training accuracy: 0.5782\n",
      "test accuracy: 0.5864\n",
      "Adjusting learning rate of group 0 to 3.7815e-02.\n"
     ]
    },
    {
     "name": "stderr",
     "output_type": "stream",
     "text": [
      " 57%|█████▋    | 1902/3345 [05:11<06:25,  3.74it/s]"
     ]
    },
    {
     "name": "stdout",
     "output_type": "stream",
     "text": [
      "training accuracy: 0.5911\n",
      "test accuracy: 0.5941\n"
     ]
    },
    {
     "name": "stderr",
     "output_type": "stream",
     "text": [
      " 60%|█████▉    | 2002/3345 [05:28<05:56,  3.77it/s]"
     ]
    },
    {
     "name": "stdout",
     "output_type": "stream",
     "text": [
      "training accuracy: 0.5994\n",
      "test accuracy: 0.6043\n",
      "Adjusting learning rate of group 0 to 3.5924e-02.\n"
     ]
    },
    {
     "name": "stderr",
     "output_type": "stream",
     "text": [
      " 63%|██████▎   | 2102/3345 [05:44<05:29,  3.77it/s]"
     ]
    },
    {
     "name": "stdout",
     "output_type": "stream",
     "text": [
      "training accuracy: 0.6180\n",
      "test accuracy: 0.6133\n"
     ]
    },
    {
     "name": "stderr",
     "output_type": "stream",
     "text": [
      " 66%|██████▌   | 2202/3345 [06:00<05:06,  3.73it/s]"
     ]
    },
    {
     "name": "stdout",
     "output_type": "stream",
     "text": [
      "training accuracy: 0.6202\n",
      "test accuracy: 0.6234\n",
      "Adjusting learning rate of group 0 to 3.4128e-02.\n"
     ]
    },
    {
     "name": "stderr",
     "output_type": "stream",
     "text": [
      " 69%|██████▉   | 2302/3345 [06:16<04:38,  3.75it/s]"
     ]
    },
    {
     "name": "stdout",
     "output_type": "stream",
     "text": [
      "training accuracy: 0.6383\n",
      "test accuracy: 0.6354\n"
     ]
    },
    {
     "name": "stderr",
     "output_type": "stream",
     "text": [
      " 72%|███████▏  | 2402/3345 [06:32<04:09,  3.77it/s]"
     ]
    },
    {
     "name": "stdout",
     "output_type": "stream",
     "text": [
      "training accuracy: 0.6496\n",
      "test accuracy: 0.6491\n",
      "Adjusting learning rate of group 0 to 3.2422e-02.\n"
     ]
    },
    {
     "name": "stderr",
     "output_type": "stream",
     "text": [
      " 75%|███████▍  | 2502/3345 [06:48<03:45,  3.73it/s]"
     ]
    },
    {
     "name": "stdout",
     "output_type": "stream",
     "text": [
      "training accuracy: 0.6637\n",
      "test accuracy: 0.6659\n"
     ]
    },
    {
     "name": "stderr",
     "output_type": "stream",
     "text": [
      " 78%|███████▊  | 2602/3345 [07:05<03:19,  3.72it/s]"
     ]
    },
    {
     "name": "stdout",
     "output_type": "stream",
     "text": [
      "training accuracy: 0.6734\n",
      "test accuracy: 0.6754\n",
      "Adjusting learning rate of group 0 to 3.0801e-02.\n"
     ]
    },
    {
     "name": "stderr",
     "output_type": "stream",
     "text": [
      " 81%|████████  | 2702/3345 [07:21<02:49,  3.79it/s]"
     ]
    },
    {
     "name": "stdout",
     "output_type": "stream",
     "text": [
      "training accuracy: 0.6843\n",
      "test accuracy: 0.6880\n"
     ]
    },
    {
     "name": "stderr",
     "output_type": "stream",
     "text": [
      " 84%|████████▍ | 2802/3345 [07:37<02:24,  3.76it/s]"
     ]
    },
    {
     "name": "stdout",
     "output_type": "stream",
     "text": [
      "training accuracy: 0.6926\n",
      "test accuracy: 0.7023\n",
      "Adjusting learning rate of group 0 to 2.9260e-02.\n"
     ]
    },
    {
     "name": "stderr",
     "output_type": "stream",
     "text": [
      " 87%|████████▋ | 2902/3345 [07:53<01:59,  3.70it/s]"
     ]
    },
    {
     "name": "stdout",
     "output_type": "stream",
     "text": [
      "training accuracy: 0.7079\n",
      "test accuracy: 0.7161\n"
     ]
    },
    {
     "name": "stderr",
     "output_type": "stream",
     "text": [
      " 90%|████████▉ | 3002/3345 [08:10<01:31,  3.74it/s]"
     ]
    },
    {
     "name": "stdout",
     "output_type": "stream",
     "text": [
      "training accuracy: 0.7062\n",
      "test accuracy: 0.7233\n",
      "Adjusting learning rate of group 0 to 2.7797e-02.\n"
     ]
    },
    {
     "name": "stderr",
     "output_type": "stream",
     "text": [
      " 93%|█████████▎| 3102/3345 [08:26<01:06,  3.67it/s]"
     ]
    },
    {
     "name": "stdout",
     "output_type": "stream",
     "text": [
      "training accuracy: 0.7178\n",
      "test accuracy: 0.7286\n"
     ]
    },
    {
     "name": "stderr",
     "output_type": "stream",
     "text": [
      " 96%|█████████▌| 3202/3345 [08:42<00:38,  3.76it/s]"
     ]
    },
    {
     "name": "stdout",
     "output_type": "stream",
     "text": [
      "training accuracy: 0.7264\n",
      "test accuracy: 0.7316\n",
      "Adjusting learning rate of group 0 to 2.6408e-02.\n"
     ]
    },
    {
     "name": "stderr",
     "output_type": "stream",
     "text": [
      " 99%|█████████▊| 3302/3345 [08:59<00:11,  3.72it/s]"
     ]
    },
    {
     "name": "stdout",
     "output_type": "stream",
     "text": [
      "training accuracy: 0.7334\n",
      "test accuracy: 0.7388\n"
     ]
    },
    {
     "name": "stderr",
     "output_type": "stream",
     "text": [
      "100%|██████████| 3345/3345 [09:05<00:00,  6.13it/s]\n"
     ]
    },
    {
     "name": "stdout",
     "output_type": "stream",
     "text": [
      "overall accuracy: 0.7406\n",
      "tag,\trecall,\tprecision\n",
      "'财经',\t0.0000,\t0.0000\n",
      "'股票',\t0.9159,\t0.7040\n",
      "'科技',\t0.8926,\t0.5951\n",
      "'社会',\t0.7451,\t0.9048\n",
      "'游戏',\t0.0000,\t0.0000\n",
      "'星座',\t0.0000,\t0.0000\n",
      "'时政',\t0.7143,\t0.9184\n",
      "'时尚',\t0.0000,\t0.0000\n",
      "'教育',\t0.8095,\t1.0000\n",
      "'房产',\t0.0000,\t0.0000\n",
      "'彩票',\t0.0000,\t0.0000\n",
      "'家居',\t0.0000,\t0.0000\n",
      "'娱乐',\t0.9462,\t0.7097\n",
      "'体育',\t0.9696,\t0.8979\n"
     ]
    }
   ],
   "source": [
    "import re\n",
    "import torch\n",
    "import transformers\n",
    "from transformers.models.bert.modeling_bert import (BertSelfAttention, BertSelfOutput, BertIntermediate, BertOutput, BertPooler)\n",
    "import loralib\n",
    "\n",
    "PARAMS.MODEL = NewsTitleClassifierBaseline(\n",
    "    PARAMS.DEVICE,\n",
    "    PARAMS.MODEL_NAME,\n",
    "    PARAMS.MODEL_HIDDEN_SIZE,\n",
    "    PARAMS.tag_list,\n",
    ")\n",
    "\n",
    "patterns = [\n",
    "    \"attention.self\",\n",
    "    \"attention.output.dense\"\n",
    "]\n",
    "\n",
    "TOTAL_LINEAR_WEIGHT_PARAMS_COUNT = 0\n",
    "TOTAL_LORA_WEIGHT_PARAMS_COUNT = 0\n",
    "\n",
    "#LORA_RANK = 0\n",
    "#LORA_RANK = 1 # ratio: 0.0020\n",
    "#LORA_RANK = 4 # ratio: 0.0078\n",
    "LORA_RANK = 16 # ratio: 0.0313\n",
    "\n",
    "\n",
    "def lora_linear(original: torch.nn.modules.linear.Linear):\n",
    "    global TOTAL_LINEAR_WEIGHT_PARAMS_COUNT\n",
    "    global TOTAL_LORA_WEIGHT_PARAMS_COUNT\n",
    "    rank = LORA_RANK \n",
    "\n",
    "    lora = loralib.Linear(original.in_features, original.out_features, r=rank)\n",
    "    lora.weight = torch.nn.Parameter(torch.clone(original.weight))\n",
    "    if original.bias is not None:\n",
    "        lora.bias = torch.nn.Parameter(torch.clone(original.bias).detach())\n",
    "\n",
    "    if rank > 0:\n",
    "        TOTAL_LINEAR_WEIGHT_PARAMS_COUNT += original.weight.numel()\n",
    "        TOTAL_LORA_WEIGHT_PARAMS_COUNT += lora.lora_A.numel() + lora.lora_B.numel()\n",
    "\n",
    "    return lora\n",
    "\n",
    "def handle_BertSelfAttention(module):\n",
    "    if isinstance(module, BertSelfAttention):\n",
    "        print(\"patching\", type(module))\n",
    "        module.query = lora_linear(module.query)\n",
    "        module.key = lora_linear(module.key)\n",
    "        module.value = lora_linear(module.value)\n",
    "\n",
    "def handle_has_dense(module):\n",
    "    has_dense = [BertSelfOutput, BertIntermediate, BertOutput, BertPooler]\n",
    "    if type(module) in has_dense:\n",
    "        print(\"patching\", type(module))\n",
    "        module.dense = lora_linear(module.dense)\n",
    "\n",
    "# Patch!\n",
    "for key, module in PARAMS.MODEL._model.named_modules():\n",
    "    handle_BertSelfAttention(module)\n",
    "    handle_has_dense(module)\n",
    "\n",
    "if LORA_RANK > 0:\n",
    "    print(\"ratio:\", f\"{TOTAL_LORA_WEIGHT_PARAMS_COUNT / TOTAL_LINEAR_WEIGHT_PARAMS_COUNT:.4f}\")\n",
    "\n",
    "loralib.mark_only_lora_as_trainable(PARAMS.MODEL._model)\n",
    "\n",
    "PARAMS.MODEL = PARAMS.MODEL.to(PARAMS.DEVICE)\n",
    "train_accuracy_record, test_accuracy_record = train(PARAMS)"
   ]
  },
  {
   "cell_type": "code",
   "execution_count": 18,
   "metadata": {},
   "outputs": [
    {
     "data": {
      "image/png": "[encoded data removed]",
      "text/plain": [
       "<Figure size 640x480 with 1 Axes>"
      ]
     },
     "metadata": {},
     "output_type": "display_data"
    }
   ],
   "source": [
    "# R = 0\n",
    "batch_num = [i for i in range(len(test_accuracy_record))]\n",
    "plt.plot(batch_num, test_accuracy_record, train_accuracy_record)\n",
    "plt.ylim([0,1])\n",
    "plt.show()"
   ]
  },
  {
   "cell_type": "code",
   "execution_count": 20,
   "metadata": {},
   "outputs": [
    {
     "data": {
      "image/png": "[encoded data removed]",
      "text/plain": [
       "<Figure size 640x480 with 1 Axes>"
      ]
     },
     "metadata": {},
     "output_type": "display_data"
    }
   ],
   "source": [
    "# R = 1\n",
    "# overall accuracy: ~0.89\n",
    "batch_num = [i for i in range(len(test_accuracy_record))]\n",
    "plt.plot(batch_num, test_accuracy_record, train_accuracy_record)\n",
    "plt.ylim([0,1])\n",
    "plt.show()"
   ]
  },
  {
   "cell_type": "code",
   "execution_count": 22,
   "metadata": {},
   "outputs": [
    {
     "data": {
      "image/png": "[encoded data removed]",
      "text/plain": [
       "<Figure size 640x480 with 1 Axes>"
      ]
     },
     "metadata": {},
     "output_type": "display_data"
    }
   ],
   "source": [
    "# R = 4\n",
    "# overall accuracy: 0.8261\n",
    "batch_num = [i for i in range(len(test_accuracy_record))]\n",
    "plt.plot(batch_num, test_accuracy_record, train_accuracy_record)\n",
    "plt.ylim([0,1])\n",
    "plt.show()"
   ]
  },
  {
   "cell_type": "code",
   "execution_count": 24,
   "metadata": {},
   "outputs": [
    {
     "data": {
      "image/png": "[encoded data removed]",
      "text/plain": [
       "<Figure size 640x480 with 1 Axes>"
      ]
     },
     "metadata": {},
     "output_type": "display_data"
    }
   ],
   "source": [
    "# R = 16\n",
    "# overall accuracy: 0.7406\n",
    "# 9m22s\n",
    "batch_num = [i for i in range(len(test_accuracy_record))]\n",
    "plt.plot(batch_num, test_accuracy_record, train_accuracy_record)\n",
    "plt.ylim([0,1])\n",
    "plt.show()"
   ]
  },
  {
   "attachments": {},
   "cell_type": "markdown",
   "metadata": {},
   "source": [
    "## 普通模型"
   ]
  },
  {
   "cell_type": "code",
   "execution_count": 25,
   "metadata": {},
   "outputs": [
    {
     "name": "stderr",
     "output_type": "stream",
     "text": [
      "Some weights of the model checkpoint at bert-base-chinese were not used when initializing BertModel: ['cls.predictions.decoder.weight', 'cls.predictions.transform.LayerNorm.bias', 'cls.seq_relationship.bias', 'cls.seq_relationship.weight', 'cls.predictions.transform.dense.bias', 'cls.predictions.bias', 'cls.predictions.transform.LayerNorm.weight', 'cls.predictions.transform.dense.weight']\n",
      "- This IS expected if you are initializing BertModel from the checkpoint of a model trained on another task or with another architecture (e.g. initializing a BertForSequenceClassification model from a BertForPreTraining model).\n",
      "- This IS NOT expected if you are initializing BertModel from the checkpoint of a model that you expect to be exactly identical (initializing a BertForSequenceClassification model from a BertForSequenceClassification model).\n"
     ]
    },
    {
     "name": "stdout",
     "output_type": "stream",
     "text": [
      "Adjusting learning rate of group 0 to 6.0000e-02.\n",
      "epoch: 0\n"
     ]
    },
    {
     "name": "stderr",
     "output_type": "stream",
     "text": [
      "  3%|▎         | 102/3345 [00:14<12:52,  4.20it/s]"
     ]
    },
    {
     "name": "stdout",
     "output_type": "stream",
     "text": [
      "training accuracy: 0.5211\n",
      "test accuracy: 0.5702\n"
     ]
    },
    {
     "name": "stderr",
     "output_type": "stream",
     "text": [
      "  6%|▌         | 202/3345 [00:29<12:08,  4.31it/s]"
     ]
    },
    {
     "name": "stdout",
     "output_type": "stream",
     "text": [
      "training accuracy: 0.7000\n",
      "test accuracy: 0.7567\n",
      "Adjusting learning rate of group 0 to 5.7000e-02.\n"
     ]
    },
    {
     "name": "stderr",
     "output_type": "stream",
     "text": [
      "  9%|▉         | 302/3345 [00:44<12:05,  4.20it/s]"
     ]
    },
    {
     "name": "stdout",
     "output_type": "stream",
     "text": [
      "training accuracy: 0.7759\n",
      "test accuracy: 0.8045\n"
     ]
    },
    {
     "name": "stderr",
     "output_type": "stream",
     "text": [
      " 12%|█▏        | 402/3345 [00:58<11:32,  4.25it/s]"
     ]
    },
    {
     "name": "stdout",
     "output_type": "stream",
     "text": [
      "training accuracy: 0.7907\n",
      "test accuracy: 0.7962\n",
      "Adjusting learning rate of group 0 to 5.4150e-02.\n"
     ]
    },
    {
     "name": "stderr",
     "output_type": "stream",
     "text": [
      " 15%|█▌        | 502/3345 [01:13<10:49,  4.37it/s]"
     ]
    },
    {
     "name": "stdout",
     "output_type": "stream",
     "text": [
      "training accuracy: 0.8062\n",
      "test accuracy: 0.8141\n"
     ]
    },
    {
     "name": "stderr",
     "output_type": "stream",
     "text": [
      " 18%|█▊        | 602/3345 [01:27<10:48,  4.23it/s]"
     ]
    },
    {
     "name": "stdout",
     "output_type": "stream",
     "text": [
      "training accuracy: 0.8203\n",
      "test accuracy: 0.8332\n",
      "Adjusting learning rate of group 0 to 5.1442e-02.\n"
     ]
    },
    {
     "name": "stderr",
     "output_type": "stream",
     "text": [
      " 21%|██        | 702/3345 [01:42<10:31,  4.19it/s]"
     ]
    },
    {
     "name": "stdout",
     "output_type": "stream",
     "text": [
      "training accuracy: 0.8290\n",
      "test accuracy: 0.8434\n"
     ]
    },
    {
     "name": "stderr",
     "output_type": "stream",
     "text": [
      " 24%|██▍       | 802/3345 [01:57<10:41,  3.97it/s]"
     ]
    },
    {
     "name": "stdout",
     "output_type": "stream",
     "text": [
      "training accuracy: 0.8509\n",
      "test accuracy: 0.8775\n",
      "Adjusting learning rate of group 0 to 4.8870e-02.\n"
     ]
    },
    {
     "name": "stderr",
     "output_type": "stream",
     "text": [
      " 27%|██▋       | 902/3345 [02:12<09:53,  4.12it/s]"
     ]
    },
    {
     "name": "stdout",
     "output_type": "stream",
     "text": [
      "training accuracy: 0.8571\n",
      "test accuracy: 0.8709\n"
     ]
    },
    {
     "name": "stderr",
     "output_type": "stream",
     "text": [
      " 30%|██▉       | 1002/3345 [02:27<09:26,  4.14it/s]"
     ]
    },
    {
     "name": "stdout",
     "output_type": "stream",
     "text": [
      "training accuracy: 0.8777\n",
      "test accuracy: 0.8649\n",
      "Adjusting learning rate of group 0 to 4.6427e-02.\n"
     ]
    },
    {
     "name": "stderr",
     "output_type": "stream",
     "text": [
      " 33%|███▎      | 1102/3345 [02:42<08:52,  4.21it/s]"
     ]
    },
    {
     "name": "stdout",
     "output_type": "stream",
     "text": [
      "training accuracy: 0.8871\n",
      "test accuracy: 0.9002\n"
     ]
    },
    {
     "name": "stderr",
     "output_type": "stream",
     "text": [
      " 36%|███▌      | 1202/3345 [02:57<08:30,  4.20it/s]"
     ]
    },
    {
     "name": "stdout",
     "output_type": "stream",
     "text": [
      "training accuracy: 0.8955\n",
      "test accuracy: 0.8966\n",
      "Adjusting learning rate of group 0 to 4.4106e-02.\n"
     ]
    },
    {
     "name": "stderr",
     "output_type": "stream",
     "text": [
      " 39%|███▉      | 1302/3345 [03:11<08:30,  4.00it/s]"
     ]
    },
    {
     "name": "stdout",
     "output_type": "stream",
     "text": [
      "training accuracy: 0.9010\n",
      "test accuracy: 0.9085\n"
     ]
    },
    {
     "name": "stderr",
     "output_type": "stream",
     "text": [
      " 42%|████▏     | 1402/3345 [03:26<07:37,  4.24it/s]"
     ]
    },
    {
     "name": "stdout",
     "output_type": "stream",
     "text": [
      "training accuracy: 0.9073\n",
      "test accuracy: 0.9091\n",
      "Adjusting learning rate of group 0 to 4.1900e-02.\n"
     ]
    },
    {
     "name": "stderr",
     "output_type": "stream",
     "text": [
      " 45%|████▍     | 1502/3345 [03:41<07:07,  4.31it/s]"
     ]
    },
    {
     "name": "stdout",
     "output_type": "stream",
     "text": [
      "training accuracy: 0.9032\n",
      "test accuracy: 0.9175\n"
     ]
    },
    {
     "name": "stderr",
     "output_type": "stream",
     "text": [
      " 48%|████▊     | 1602/3345 [03:55<06:47,  4.28it/s]"
     ]
    },
    {
     "name": "stdout",
     "output_type": "stream",
     "text": [
      "training accuracy: 0.9120\n",
      "test accuracy: 0.9217\n",
      "Adjusting learning rate of group 0 to 3.9805e-02.\n"
     ]
    },
    {
     "name": "stderr",
     "output_type": "stream",
     "text": [
      " 51%|█████     | 1702/3345 [04:10<06:29,  4.22it/s]"
     ]
    },
    {
     "name": "stdout",
     "output_type": "stream",
     "text": [
      "training accuracy: 0.9172\n",
      "test accuracy: 0.9283\n"
     ]
    },
    {
     "name": "stderr",
     "output_type": "stream",
     "text": [
      " 54%|█████▍    | 1802/3345 [04:25<06:03,  4.24it/s]"
     ]
    },
    {
     "name": "stdout",
     "output_type": "stream",
     "text": [
      "training accuracy: 0.9174\n",
      "test accuracy: 0.9241\n",
      "Adjusting learning rate of group 0 to 3.7815e-02.\n"
     ]
    },
    {
     "name": "stderr",
     "output_type": "stream",
     "text": [
      " 57%|█████▋    | 1902/3345 [04:39<05:41,  4.22it/s]"
     ]
    },
    {
     "name": "stdout",
     "output_type": "stream",
     "text": [
      "training accuracy: 0.9180\n",
      "test accuracy: 0.9241\n"
     ]
    },
    {
     "name": "stderr",
     "output_type": "stream",
     "text": [
      " 60%|█████▉    | 2002/3345 [04:54<05:11,  4.31it/s]"
     ]
    },
    {
     "name": "stdout",
     "output_type": "stream",
     "text": [
      "training accuracy: 0.9166\n",
      "test accuracy: 0.9319\n",
      "Adjusting learning rate of group 0 to 3.5924e-02.\n"
     ]
    },
    {
     "name": "stderr",
     "output_type": "stream",
     "text": [
      " 63%|██████▎   | 2102/3345 [05:09<04:58,  4.17it/s]"
     ]
    },
    {
     "name": "stdout",
     "output_type": "stream",
     "text": [
      "training accuracy: 0.9197\n",
      "test accuracy: 0.9247\n"
     ]
    },
    {
     "name": "stderr",
     "output_type": "stream",
     "text": [
      " 66%|██████▌   | 2202/3345 [05:24<04:25,  4.31it/s]"
     ]
    },
    {
     "name": "stdout",
     "output_type": "stream",
     "text": [
      "training accuracy: 0.9188\n",
      "test accuracy: 0.9247\n",
      "Adjusting learning rate of group 0 to 3.4128e-02.\n"
     ]
    },
    {
     "name": "stderr",
     "output_type": "stream",
     "text": [
      " 69%|██████▉   | 2302/3345 [05:39<04:02,  4.30it/s]"
     ]
    },
    {
     "name": "stdout",
     "output_type": "stream",
     "text": [
      "training accuracy: 0.9236\n",
      "test accuracy: 0.9193\n"
     ]
    },
    {
     "name": "stderr",
     "output_type": "stream",
     "text": [
      " 72%|███████▏  | 2402/3345 [05:53<03:48,  4.13it/s]"
     ]
    },
    {
     "name": "stdout",
     "output_type": "stream",
     "text": [
      "training accuracy: 0.9215\n",
      "test accuracy: 0.9277\n",
      "Adjusting learning rate of group 0 to 3.2422e-02.\n"
     ]
    },
    {
     "name": "stderr",
     "output_type": "stream",
     "text": [
      " 75%|███████▍  | 2502/3345 [06:08<03:15,  4.30it/s]"
     ]
    },
    {
     "name": "stdout",
     "output_type": "stream",
     "text": [
      "training accuracy: 0.9247\n",
      "test accuracy: 0.9277\n"
     ]
    },
    {
     "name": "stderr",
     "output_type": "stream",
     "text": [
      " 78%|███████▊  | 2602/3345 [06:23<02:53,  4.28it/s]"
     ]
    },
    {
     "name": "stdout",
     "output_type": "stream",
     "text": [
      "training accuracy: 0.9248\n",
      "test accuracy: 0.9337\n",
      "Adjusting learning rate of group 0 to 3.0801e-02.\n"
     ]
    },
    {
     "name": "stderr",
     "output_type": "stream",
     "text": [
      " 81%|████████  | 2702/3345 [06:37<02:31,  4.26it/s]"
     ]
    },
    {
     "name": "stdout",
     "output_type": "stream",
     "text": [
      "training accuracy: 0.9237\n",
      "test accuracy: 0.9319\n"
     ]
    },
    {
     "name": "stderr",
     "output_type": "stream",
     "text": [
      " 84%|████████▍ | 2802/3345 [06:52<02:06,  4.29it/s]"
     ]
    },
    {
     "name": "stdout",
     "output_type": "stream",
     "text": [
      "training accuracy: 0.9221\n",
      "test accuracy: 0.9313\n",
      "Adjusting learning rate of group 0 to 2.9260e-02.\n"
     ]
    },
    {
     "name": "stderr",
     "output_type": "stream",
     "text": [
      " 87%|████████▋ | 2902/3345 [07:07<01:43,  4.27it/s]"
     ]
    },
    {
     "name": "stdout",
     "output_type": "stream",
     "text": [
      "training accuracy: 0.9247\n",
      "test accuracy: 0.9319\n"
     ]
    },
    {
     "name": "stderr",
     "output_type": "stream",
     "text": [
      " 90%|████████▉ | 3002/3345 [07:22<01:21,  4.19it/s]"
     ]
    },
    {
     "name": "stdout",
     "output_type": "stream",
     "text": [
      "training accuracy: 0.9254\n",
      "test accuracy: 0.9372\n",
      "Adjusting learning rate of group 0 to 2.7797e-02.\n"
     ]
    },
    {
     "name": "stderr",
     "output_type": "stream",
     "text": [
      " 93%|█████████▎| 3102/3345 [07:37<00:57,  4.22it/s]"
     ]
    },
    {
     "name": "stdout",
     "output_type": "stream",
     "text": [
      "training accuracy: 0.9285\n",
      "test accuracy: 0.9325\n"
     ]
    },
    {
     "name": "stderr",
     "output_type": "stream",
     "text": [
      " 96%|█████████▌| 3202/3345 [07:51<00:33,  4.27it/s]"
     ]
    },
    {
     "name": "stdout",
     "output_type": "stream",
     "text": [
      "training accuracy: 0.9316\n",
      "test accuracy: 0.9414\n",
      "Adjusting learning rate of group 0 to 2.6408e-02.\n"
     ]
    },
    {
     "name": "stderr",
     "output_type": "stream",
     "text": [
      " 99%|█████████▊| 3302/3345 [08:06<00:10,  4.06it/s]"
     ]
    },
    {
     "name": "stdout",
     "output_type": "stream",
     "text": [
      "training accuracy: 0.9293\n",
      "test accuracy: 0.9438\n"
     ]
    },
    {
     "name": "stderr",
     "output_type": "stream",
     "text": [
      "100%|██████████| 3345/3345 [08:12<00:00,  6.79it/s]\n"
     ]
    },
    {
     "name": "stdout",
     "output_type": "stream",
     "text": [
      "overall accuracy: 0.9384\n",
      "tag,\trecall,\tprecision\n",
      "'财经',\t0.9054,\t0.8272\n",
      "'股票',\t0.9385,\t0.9603\n",
      "'科技',\t0.9479,\t0.9567\n",
      "'社会',\t0.9216,\t0.8704\n",
      "'游戏',\t0.8776,\t0.9556\n",
      "'星座',\t0.0000,\t0.0000\n",
      "'时政',\t0.9365,\t0.9219\n",
      "'时尚',\t0.8148,\t0.9565\n",
      "'教育',\t0.9881,\t0.9651\n",
      "'房产',\t0.8000,\t0.8889\n",
      "'彩票',\t0.4667,\t1.0000\n",
      "'家居',\t0.9385,\t0.9104\n",
      "'娱乐',\t0.9839,\t0.9196\n",
      "'体育',\t0.9924,\t0.9739\n"
     ]
    }
   ],
   "source": [
    "PARAMS.MODEL = NewsTitleClassifierBaseline(\n",
    "    PARAMS.DEVICE,\n",
    "    PARAMS.MODEL_NAME,\n",
    "    PARAMS.MODEL_HIDDEN_SIZE,\n",
    "    PARAMS.tag_list,\n",
    ").to(PARAMS.DEVICE)\n",
    "\n",
    "train_accuracy_record, test_accuracy_record = train(PARAMS)"
   ]
  },
  {
   "cell_type": "code",
   "execution_count": 26,
   "metadata": {},
   "outputs": [
    {
     "data": {
      "image/png": "[encoded data removed]",
      "text/plain": [
       "<Figure size 640x480 with 1 Axes>"
      ]
     },
     "metadata": {},
     "output_type": "display_data"
    }
   ],
   "source": [
    "# overall accuracy: 0.9384\n",
    "# 8m28s\n",
    "batch_num = [i for i in range(len(test_accuracy_record))]\n",
    "plt.plot(batch_num, test_accuracy_record, train_accuracy_record)\n",
    "plt.show()"
   ]
  },
  {
   "attachments": {},
   "cell_type": "markdown",
   "metadata": {},
   "source": [
    "## 对比学习\n",
    "试试CLIP https://github.com/openai/CLIP"
   ]
  },
  {
   "cell_type": "code",
   "execution_count": null,
   "metadata": {},
   "outputs": [],
   "source": [
    "PARAMS.MODEL = NewsTitleClassifierContrastive(\n",
    "    PARAMS.DEVICE,\n",
    "    PARAMS.MODEL_NAME,\n",
    "    PARAMS.MODEL_HIDDEN_SIZE,\n",
    "    tag_list=PARAMS.tag_list,\n",
    "    prompt_list=PARAMS.tag_list,\n",
    ").to(PARAMS.DEVICE)\n",
    "\n",
    "train_accuracy_record_contrastive, test_accuracy_record_contrastive = train(PARAMS)"
   ]
  },
  {
   "cell_type": "code",
   "execution_count": 8,
   "metadata": {},
   "outputs": [
    {
     "data": {
      "image/png": "[encoded data removed]",
      "text/plain": [
       "<Figure size 640x480 with 1 Axes>"
      ]
     },
     "metadata": {},
     "output_type": "display_data"
    }
   ],
   "source": [
    "batch_num = [i for i in range(len(test_accuracy_record))]\n",
    "plt.plot(batch_num, train_accuracy_record_contrastive, test_accuracy_record_contrastive)\n",
    "plt.show()"
   ]
  },
  {
   "attachments": {},
   "cell_type": "markdown",
   "metadata": {},
   "source": [
    "### 用Prompt做对比学习"
   ]
  },
  {
   "cell_type": "code",
   "execution_count": null,
   "metadata": {},
   "outputs": [],
   "source": [
    "prompts = [f\"这是一篇{tag}新闻\" for tag in PARAMS.tag_list]\n",
    "\n",
    "PARAMS.MODEL = NewsTitleClassifierContrastive(\n",
    "    PARAMS.DEVICE,\n",
    "    PARAMS.MODEL_NAME,\n",
    "    PARAMS.MODEL_HIDDEN_SIZE,\n",
    "    tag_list=PARAMS.tag_list,\n",
    "    prompt_list=prompts,\n",
    ").to(PARAMS.DEVICE)\n",
    "\n",
    "train_accuracy_record_contrastive_prompt, test_accuracy_record_contrastive_prompt = train(PARAMS)"
   ]
  },
  {
   "attachments": {},
   "cell_type": "markdown",
   "metadata": {},
   "source": [
    "### 去掉softmax"
   ]
  },
  {
   "cell_type": "code",
   "execution_count": null,
   "metadata": {},
   "outputs": [],
   "source": [
    "PARAMS.MODEL = NewsTitleClassifierContrastive(\n",
    "    PARAMS.DEVICE,\n",
    "    PARAMS.MODEL_NAME,\n",
    "    PARAMS.MODEL_HIDDEN_SIZE,\n",
    "    tag_list=PARAMS.tag_list,\n",
    "    prompt_list=PARAMS.tag_list,\n",
    "    softmax=False\n",
    ").to(PARAMS.DEVICE)\n",
    "\n",
    "train_accuracy_record_contrastive_no_softmax, test_accuracy_record_contrastive_no_softmax = train(PARAMS)"
   ]
  },
  {
   "attachments": {},
   "cell_type": "markdown",
   "metadata": {},
   "source": [
    "### 对称loss\n",
    "\n",
    "才看到论文里面有一个：\n",
    "\n",
    "```python\n",
    "loss_i = cross_entropy_loss(logits, labels, axis=0)\n",
    "loss_t = cross_entropy_loss(logits, labels, axis=1)\n",
    "loss = (loss_i + loss_t)/2\n",
    "```\n",
    "\n",
    "然后[代码](https://github.com/openai/CLIP/blob/main/clip/model.py)里面是这样的：\n",
    "\n",
    "```python\n",
    "# cosine similarity as logits\n",
    "logit_scale = self.logit_scale.exp()\n",
    "logits_per_image = logit_scale * image_features @ text_features.t()\n",
    "logits_per_text = logits_per_image.t()\n",
    "\n",
    "# shape = [global_batch_size, global_batch_size]\n",
    "return logits_per_image, logits_per_text\n",
    "```"
   ]
  },
  {
   "cell_type": "code",
   "execution_count": null,
   "metadata": {},
   "outputs": [],
   "source": [
    "PARAMS.MODEL = NewsTitleClassifierContrastive(\n",
    "    PARAMS.DEVICE,\n",
    "    PARAMS.MODEL_NAME,\n",
    "    PARAMS.MODEL_HIDDEN_SIZE,\n",
    "    tag_list=PARAMS.tag_list,\n",
    "    prompt_list=PARAMS.tag_list,\n",
    "    softmax=True\n",
    ").to(PARAMS.DEVICE)\n",
    "\n",
    "records_symmetric_loss = train(PARAMS, symmetric_loss=True)"
   ]
  },
  {
   "attachments": {},
   "cell_type": "markdown",
   "metadata": {},
   "source": [
    "# 分析对比"
   ]
  },
  {
   "cell_type": "code",
   "execution_count": 9,
   "metadata": {},
   "outputs": [],
   "source": [
    "import pickle\n",
    "with open(\"./records.pickle\", \"rb\") as file:\n",
    "    records = pickle.load(file)"
   ]
  },
  {
   "cell_type": "code",
   "execution_count": 18,
   "metadata": {},
   "outputs": [],
   "source": [
    "import pickle\n",
    "\n",
    "with open(\"./records.pickle\", \"wb\") as file:\n",
    "    records.update({\"contrastive_with_softmax_with_symmetric\": records_symmetric_loss})\n",
    "    pickle.dump(records, file)\n"
   ]
  },
  {
   "cell_type": "code",
   "execution_count": 20,
   "metadata": {},
   "outputs": [
    {
     "data": {
      "image/png": "[encoded data removed]",
      "text/plain": [
       "<Figure size 640x480 with 1 Axes>"
      ]
     },
     "metadata": {},
     "output_type": "display_data"
    }
   ],
   "source": [
    "batch_num = [i for i in range(len(records_symmetric_loss[1]))]\n",
    "plt.plot(batch_num, records[\"baseline\"][1], label=\"baseline\")\n",
    "plt.plot(batch_num, records[\"contrastive_with_softmax\"][1], label=\"contrastive_with_softmax\")\n",
    "plt.plot(batch_num, records[\"contrastive_with_prompt\"][1], label=\"contrastive_with_prompt\")\n",
    "plt.plot(batch_num, records[\"contrastive_with_softmax_with_symmetric\"][1], label=\"contrastive_with_softmax_with_symmetric\")\n",
    "plt.legend()\n",
    "plt.show()"
   ]
  }
 ],
 "metadata": {
  "kernelspec": {
   "display_name": ".venv",
   "language": "python",
   "name": "python3"
  },
  "language_info": {
   "codemirror_mode": {
    "name": "ipython",
    "version": 3
   },
   "file_extension": ".py",
   "mimetype": "text/x-python",
   "name": "python",
   "nbconvert_exporter": "python",
   "pygments_lexer": "ipython3",
   "version": "3.10.6"
  },
  "orig_nbformat": 4
 },
 "nbformat": 4,
 "nbformat_minor": 2
}
